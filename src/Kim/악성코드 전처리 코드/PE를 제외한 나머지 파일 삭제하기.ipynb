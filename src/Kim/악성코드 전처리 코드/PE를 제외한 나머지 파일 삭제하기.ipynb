{
 "cells": [
  {
   "cell_type": "code",
   "execution_count": 11,
   "id": "ec8f1d7b",
   "metadata": {},
   "outputs": [
    {
     "name": "stdout",
     "output_type": "stream",
     "text": [
      "Delete File: ollydbg.ini\n",
      "Delete File: appcmd.exe\n",
      "Delete File: dcdiag.exe\n",
      "Delete File: dsmgmt.exe\n",
      "Delete File: ADSchemaAnalyzer.exe\n",
      "Delete File: LogCollector.exe\n",
      "Delete File: cmak.exe\n",
      "Delete File: InspectVhdDialog6.3.exe\n",
      "Delete File: iisrstas.exe\n",
      "Delete File: csvde.exe\n",
      "Delete File: dpnsvr.exe\n",
      "Delete File: ldifde.exe\n",
      "Delete File: MSDeployIcon.exe\n",
      "Delete File: hvsirpcd.exe\n",
      "Delete File: c2wtshost.exe\n",
      "Delete File: InetMgr.exe\n",
      "Delete File: hvsirdpclient.exe\n",
      "Delete File: evntcmd.exe\n",
      "Delete File: ldp.exe\n",
      "Delete File: hcsdiag.exe\n",
      "Delete File: dsacls.exe\n",
      "Delete File: inetinfo.exe\n",
      "Delete File: lpr.exe\n",
      "Delete File: lpq.exe\n",
      "Delete File: iisreset.exe\n",
      "Delete File: evntwin.exe\n",
      "Delete File: CCG.exe\n",
      "Delete File: eshell.exe\n",
      "Delete File: hvsimgr.exe\n",
      "Delete File: hvc.exe\n",
      "Delete File: InspectVhdDialog.exe\n",
      "Delete File: adamuninstall.exe\n",
      "Delete File: CExecSvc.exe\n",
      "Delete File: dsamain.exe\n",
      "Delete File: InspectVhdDialog6.2.exe\n",
      "Delete File: InetMgr6.exe\n",
      "Delete File: dplaysvr.exe\n",
      "Delete File: aspnetca.exe\n",
      "Delete File: LxRun.exe\n",
      "Delete File: bash.exe\n",
      "Delete File: iissetup.exe\n",
      "Delete File: dsdbutil.exe\n",
      "Delete File: BootExpCfg.exe\n"
     ]
    }
   ],
   "source": [
    "import os\n",
    "\n",
    "dir_name = \"/home/user/Downloads/Benign PE Samples 1\"\n",
    "# print(os.listdir(\"./\"))\n",
    "for file_name in os.listdir(dir_name):\n",
    "    with open(dir_name+\"/\"+file_name, \"rb\") as file:\n",
    "        if file.read(2) != b'MZ':\n",
    "            os.remove(dir_name+'/'+file_name)\n",
    "            print(\"Delete File:\",file_name)"
   ]
  },
  {
   "cell_type": "code",
   "execution_count": null,
   "id": "353f28e4",
   "metadata": {},
   "outputs": [],
   "source": []
  }
 ],
 "metadata": {
  "kernelspec": {
   "display_name": "Python 3 (ipykernel)",
   "language": "python",
   "name": "python3"
  },
  "language_info": {
   "codemirror_mode": {
    "name": "ipython",
    "version": 3
   },
   "file_extension": ".py",
   "mimetype": "text/x-python",
   "name": "python",
   "nbconvert_exporter": "python",
   "pygments_lexer": "ipython3",
   "version": "3.9.7"
  }
 },
 "nbformat": 4,
 "nbformat_minor": 5
}
