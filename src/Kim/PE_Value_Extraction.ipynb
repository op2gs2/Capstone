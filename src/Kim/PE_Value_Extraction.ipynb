{
 "cells": [
  {
   "cell_type": "code",
   "execution_count": 10,
   "outputs": [],
   "source": [
    "def Section_Header_Extraction(pe):\n",
    "    for section in pe.sections:\n",
    "        print(\"섹션 이름: \", section.Name, \"\\nVirtualSize: \", hex(section.Misc_VirtualSize),\n",
    "              \"\\nVirtualAddress: \",hex(section.VirtualAddress), \"\\nSizeOfRawData: \",hex(section.SizeOfRawData),\"\\nPointerToRawData :\",hex(section.PointerToRawData))\n",
    "        print('\\n')"
   ],
   "metadata": {
    "collapsed": false,
    "pycharm": {
     "name": "#%%\n"
    }
   }
  },
  {
   "cell_type": "code",
   "execution_count": 11,
   "outputs": [
    {
     "name": "stdout",
     "output_type": "stream",
     "text": [
      "섹션 이름:  b'.text\\x00\\x00\\x00' \n",
      "VirtualSize:  0x49937 \n",
      "VirtualAddress:  0x1000 \n",
      "SizeOfRawData:  0x49a00 \n",
      "PointerToRawData : 0x400\n",
      "\n",
      "\n",
      "섹션 이름:  b'.rdata\\x00\\x00' \n",
      "VirtualSize:  0x1ed60 \n",
      "VirtualAddress:  0x4b000 \n",
      "SizeOfRawData:  0x1ee00 \n",
      "PointerToRawData : 0x49e00\n",
      "\n",
      "\n",
      "섹션 이름:  b'.data\\x00\\x00\\x00' \n",
      "VirtualSize:  0x1730 \n",
      "VirtualAddress:  0x6a000 \n",
      "SizeOfRawData:  0xa00 \n",
      "PointerToRawData : 0x68c00\n",
      "\n",
      "\n",
      "섹션 이름:  b'.wixburn' \n",
      "VirtualSize:  0x38 \n",
      "VirtualAddress:  0x6c000 \n",
      "SizeOfRawData:  0x200 \n",
      "PointerToRawData : 0x69600\n",
      "\n",
      "\n",
      "섹션 이름:  b'.rsrc\\x00\\x00\\x00' \n",
      "VirtualSize:  0x165fc \n",
      "VirtualAddress:  0x6d000 \n",
      "SizeOfRawData:  0x16600 \n",
      "PointerToRawData : 0x69800\n",
      "\n",
      "\n",
      "섹션 이름:  b'.reloc\\x00\\x00' \n",
      "VirtualSize:  0x3dfc \n",
      "VirtualAddress:  0x84000 \n",
      "SizeOfRawData:  0x3e00 \n",
      "PointerToRawData : 0x7fe00\n",
      "\n",
      "\n"
     ]
    }
   ],
   "source": [
    "import pefile\n",
    "\n",
    "pe = pefile.PE('./python-3.10.3-amd64.exe')\n",
    "\n",
    "Section_Header_Extraction(pe)"
   ],
   "metadata": {
    "collapsed": false,
    "pycharm": {
     "name": "#%%\n"
    }
   }
  },
  {
   "cell_type": "code",
   "execution_count": null,
   "outputs": [],
   "source": [],
   "metadata": {
    "collapsed": false,
    "pycharm": {
     "name": "#%%\n"
    }
   }
  }
 ],
 "metadata": {
  "kernelspec": {
   "display_name": "Python 3",
   "language": "python",
   "name": "python3"
  },
  "language_info": {
   "codemirror_mode": {
    "name": "ipython",
    "version": 2
   },
   "file_extension": ".py",
   "mimetype": "text/x-python",
   "name": "python",
   "nbconvert_exporter": "python",
   "pygments_lexer": "ipython2",
   "version": "2.7.6"
  }
 },
 "nbformat": 4,
 "nbformat_minor": 0
}