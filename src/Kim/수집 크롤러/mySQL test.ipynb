{
 "cells": [
  {
   "cell_type": "code",
   "execution_count": 1,
   "id": "7e2d70d4",
   "metadata": {},
   "outputs": [
    {
     "name": "stdout",
     "output_type": "stream",
     "text": [
      "Requirement already satisfied: mysql-connector in /home/user/anaconda3/lib/python3.9/site-packages (2.2.9)\r\n"
     ]
    }
   ],
   "source": [
    "!pip3 install mysql-connector"
   ]
  },
  {
   "cell_type": "code",
   "execution_count": 1,
   "id": "ca47cea7",
   "metadata": {},
   "outputs": [],
   "source": [
    "import mysql.connector"
   ]
  },
  {
   "cell_type": "code",
   "execution_count": 5,
   "id": "92da847c",
   "metadata": {},
   "outputs": [],
   "source": [
    "mydb = mysql.connector.connect(\n",
    "    host=\"capstons-db.cuwqixyzmmdw.us-east-1.rds.amazonaws.com\",\n",
    "    user=\"admin\",\n",
    "    passwd=\"capstondb\",\n",
    "    database=\"capstondb\"\n",
    ")"
   ]
  },
  {
   "cell_type": "code",
   "execution_count": null,
   "id": "2022521e",
   "metadata": {},
   "outputs": [],
   "source": [
    "cur = mydb.cursor(buffered=True)\n",
    "#cur.execute(\"SHOW DATABASES\")\n",
    "cur.execute(\"name FROM information_schema.tables WHERE table_schema='FileHeader'\")\n",
    "result = cur.fetchall()\n",
    "\n",
    "for result in result:\n",
    "    print(result)"
   ]
  },
  {
   "cell_type": "code",
   "execution_count": null,
   "id": "3166f90b",
   "metadata": {},
   "outputs": [],
   "source": []
  }
 ],
 "metadata": {
  "kernelspec": {
   "display_name": "mldlsec_310",
   "language": "python",
   "name": "mldlsec_310"
  },
  "language_info": {
   "codemirror_mode": {
    "name": "ipython",
    "version": 3
   },
   "file_extension": ".py",
   "mimetype": "text/x-python",
   "name": "python",
   "nbconvert_exporter": "python",
   "pygments_lexer": "ipython3",
   "version": "3.10.0"
  }
 },
 "nbformat": 4,
 "nbformat_minor": 5
}
