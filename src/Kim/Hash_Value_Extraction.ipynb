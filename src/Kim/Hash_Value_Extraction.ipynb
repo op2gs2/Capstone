{
 "cells": [
  {
   "cell_type": "code",
   "execution_count": 13,
   "metadata": {
    "collapsed": true
   },
   "outputs": [
    {
     "name": "stdout",
     "output_type": "stream",
     "text": [
      "MD5: 9ea305690dbfd424a632b6a659347c1e\n",
      "SHA-256: 48aea4b9f6315a6544f82480b2caf1e29fd6687abb5b756930ad98a1e9b9a847\n"
     ]
    }
   ],
   "source": [
    "import hashlib\n",
    "\n",
    "BUF_SIZE = 65536\n",
    "md5 = hashlib.md5()\n",
    "sha256 = hashlib.sha256()\n",
    "\n",
    "try:\n",
    "    with open('./python-3.10.3-amd64.exe',\"rb\") as file:\n",
    "        while(True):\n",
    "            data = file.read(BUF_SIZE)\n",
    "            if not data:\n",
    "                break\n",
    "            md5.update(data)\n",
    "            sha256.update(data)\n",
    "\n",
    "except Exception as e:\n",
    "    print(\"에러 원인: \", e)\n",
    "\n",
    "md5_result = md5.hexdigest()\n",
    "sha256_result = sha256.hexdigest()\n",
    "\n",
    "print(\"MD5:\",md5_result)\n",
    "print(\"SHA-256:\",sha256_result)"
   ]
  },
  {
   "cell_type": "code",
   "execution_count": null,
   "outputs": [],
   "source": [],
   "metadata": {
    "collapsed": false,
    "pycharm": {
     "name": "#%%\n"
    }
   }
  }
 ],
 "metadata": {
  "kernelspec": {
   "display_name": "Python 3",
   "language": "python",
   "name": "python3"
  },
  "language_info": {
   "codemirror_mode": {
    "name": "ipython",
    "version": 2
   },
   "file_extension": ".py",
   "mimetype": "text/x-python",
   "name": "python",
   "nbconvert_exporter": "python",
   "pygments_lexer": "ipython2",
   "version": "2.7.6"
  }
 },
 "nbformat": 4,
 "nbformat_minor": 0
}